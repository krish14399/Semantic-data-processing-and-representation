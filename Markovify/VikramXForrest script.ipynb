{
 "cells": [
  {
   "cell_type": "code",
   "execution_count": 14,
   "id": "67df4203",
   "metadata": {},
   "outputs": [
    {
     "name": "stdout",
     "output_type": "stream",
     "text": [
      "Jenny turns and look.\n"
     ]
    }
   ],
   "source": [
    "import markovify\n",
    "\n",
    "# Load the text from the source file\n",
    "with open('VikramXForrest.txt', 'r', encoding='utf-8') as f:\n",
    "    text = f.read()\n",
    "\n",
    "# Create a Markov chain text model\n",
    "text_model = markovify.Text(text)\n",
    "\n",
    "# Generate random text\n",
    "generated_text = text_model.make_sentence()\n",
    "\n",
    "# Print the generated text\n",
    "print(generated_text)"
   ]
  },
  {
   "cell_type": "code",
   "execution_count": 15,
   "id": "3999f3b1",
   "metadata": {},
   "outputs": [
    {
     "name": "stdout",
     "output_type": "stream",
     "text": [
      "We don't want to eat.\n",
      "JENNY I have a cough due to cold?\n",
      "நான் உள்ள போறதுக்கு முன்னாடி ஒரு விஷயத்த கேட்டுட்டு சாவு...\n",
      "He begins to kiss Forrest.\n",
      "Forrest paints a name on these T-shirts.\n"
     ]
    }
   ],
   "source": [
    "# Generate multiple random sentences\n",
    "for _ in range(5):\n",
    "    generated_text = text_model.make_sentence()\n",
    "    print(generated_text)"
   ]
  },
  {
   "cell_type": "code",
   "execution_count": 20,
   "id": "345ef689",
   "metadata": {},
   "outputs": [
    {
     "name": "stdout",
     "output_type": "stream",
     "text": [
      "And I think about it real hard I could eat about a million and a half a dozen lawmen.\n",
      "என் சரக்கு எனக்கு கெடச்சிதுன்னா உன் கவர்மெண்டுக்கு கீ ழ ஒரு ஸ்டெல்த் டீம் உருவாக்கப்பட்டுச்சி...\n",
      "அண்ட் ஆள் ஆப் எ சடன் சந்தனத்தோட கேங்கையும் சிட்டி டிஸ்ட்ரிபூஷனோட கேங்கையும் அவங்க மீ ட் பண்ணது பி டபுள்யூ டி ஆபிசர் வரீ பாண்டியனும் காண்ட்ராக்டர் ருத்ர பிரதாப்பும்...\n",
      "Dan falls out of the day drops to the ocean.\n",
      "JENNY Hey, I know that.\n",
      "அந்த சத்தம் கேட்டு வேலைக்காரப்பென்னும் வருகிறாள்...\n",
      "The television cuts to a shot of President Nixon makes a resignation speech on TV.\n",
      "FORREST I could come down to get a clear view.\n",
      "A man drops a syringe on the slow side, but my boy Forrest is right here.\n",
      "Jenny takes off her nightgown as they react to gunshots in front of a pier.\n"
     ]
    }
   ],
   "source": [
    "# Generate multiple random sentences\n",
    "for _ in range(10):\n",
    "    generated_text = text_model.make_sentence()\n",
    "    print(generated_text)"
   ]
  },
  {
   "cell_type": "code",
   "execution_count": 21,
   "id": "6ebfddcf",
   "metadata": {},
   "outputs": [
    {
     "name": "stdout",
     "output_type": "stream",
     "text": [
      "Forrest walks stiffly next to the mailbox.\n",
      "I'll bet you could tell about a million and a large wad of cash.\n",
      "Mrs. Gump bends down and tries to teach Forrest Jr. sit on a table with some other people.\n",
      "The elderly woman and Forrest empty their net.\n",
      "None\n",
      "DOCKS Forrest pulls a couple of more, you can move on.\n",
      "Forrest places the letter out of the smartest in his eyes as he runs farther away.\n",
      "எனக்கு தெரிஞ்சி உள்ளுக்குள்ள வேற ஏதோ ஒரு சப்ஸ்டான்ஸ்...\n",
      "ஜோஸ் வட்டிற்கு ீ செல்கிறான்..\n",
      "Forrest stops suddenly as his catch of the other.\n",
      "Forrest's brace is caught in a hammock on his legs before?\n",
      "நள்ளிரவில் அமர் சில டூல்ஸ்களை எடுத்துக் கொண்டு வேகமாக புறப்படுகிறார்...\n",
      "So, take a left!\n",
      "ELVIS Oh, no, that's all I have a cough due to cold?\n",
      "ட்ரையிங் டூ பீ ரெக்லெஸ் தே ஆர் ஜஸ்ட் நோபாடி ...\n",
      "Jenny looks at the house.\n",
      "உனக்கு ரெண்டு மணி நேரம் விளையாடுவாரு..\n",
      "A gust of wind picks the feather to be whisked back on its feet.\n",
      "None\n",
      "The old shrimper begins to kiss Forrest.\n"
     ]
    }
   ],
   "source": [
    "# Generate multiple random sentences\n",
    "for _ in range(20):\n",
    "    generated_text = text_model.make_sentence()\n",
    "    print(generated_text)"
   ]
  },
  {
   "cell_type": "code",
   "execution_count": null,
   "id": "5eda5691",
   "metadata": {},
   "outputs": [],
   "source": []
  }
 ],
 "metadata": {
  "kernelspec": {
   "display_name": "Python 3",
   "language": "python",
   "name": "python3"
  },
  "language_info": {
   "codemirror_mode": {
    "name": "ipython",
    "version": 3
   },
   "file_extension": ".py",
   "mimetype": "text/x-python",
   "name": "python",
   "nbconvert_exporter": "python",
   "pygments_lexer": "ipython3",
   "version": "3.8.8"
  }
 },
 "nbformat": 4,
 "nbformat_minor": 5
}
